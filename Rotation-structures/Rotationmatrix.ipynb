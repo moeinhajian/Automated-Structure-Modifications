{
 "cells": [
  {
   "cell_type": "code",
   "execution_count": 1,
   "metadata": {},
   "outputs": [],
   "source": [
    "import numpy as np\n",
    "import math as m\n",
    "import pandas as pd\n"
   ]
  },
  {
   "cell_type": "markdown",
   "metadata": {},
   "source": [
    "## rotation matrix"
   ]
  },
  {
   "cell_type": "code",
   "execution_count": 2,
   "metadata": {},
   "outputs": [],
   "source": [
    " \n",
    "def Rx(theta):\n",
    "  return np.matrix([[ 1, 0           , 0           ],\n",
    "                   [ 0, m.cos(theta),-m.sin(theta)],\n",
    "                   [ 0, m.sin(theta), m.cos(theta)]])\n",
    "  \n",
    "def Ry(theta):\n",
    "  return np.matrix([[ m.cos(theta), 0, m.sin(theta)],\n",
    "                   [ 0           , 1, 0           ],\n",
    "                   [-m.sin(theta), 0, m.cos(theta)]])\n",
    "  \n",
    "def Rz(theta):\n",
    "  return np.matrix([[ m.cos(theta), -m.sin(theta), 0 ],\n",
    "                   [ m.sin(theta), m.cos(theta) , 0 ],\n",
    "                   [ 0           , 0            , 1 ]])"
   ]
  },
  {
   "cell_type": "markdown",
   "metadata": {},
   "source": [
    "## Rotation of coordinates about the centroid (i.e., the mean of the coordinate points)"
   ]
  },
  {
   "cell_type": "code",
   "execution_count": 5,
   "metadata": {},
   "outputs": [],
   "source": [
    "df = pd.read_excel('rotation_file.xlsx', sheet_name = 'raw_data', header=None)\n",
    "\n",
    "# raw_data =np.array(df)\n",
    "raw_data =df.to_numpy()\n",
    "means = np.mean(raw_data, axis=0)\n",
    "centrized = raw_data - raw_data.mean(0)\n",
    "\n",
    "# means.shape\n",
    "# df\n",
    "phi = m.pi*(-0.1)\n",
    "theta = m.pi*0\n",
    "psi = m.pi*1\n",
    "# print(\"phi =\", phi)\n",
    "# print(\"theta  =\", theta)\n",
    "# print(\"psi =\", psi)\n",
    "R = Rz(psi) * Ry(theta) * Rx(phi)\n",
    "# print(np.round(R, decimals=2))\n",
    "\n",
    "rotated = R @ centrized.T\n",
    "\n",
    "result = rotated.T + raw_data.mean(0)\n",
    "df2 = pd.DataFrame(result)\n",
    "df2.to_excel(excel_writer =  'rotatedfile.xlsx', sheet_name = 'rotated')\n",
    "# with pd.ExcelWriter('rotatedfile.xlsx', mode='a') as writer:  \n",
    "#     df2.to_excel(writer, sheet_name='New')"
   ]
  }
 ],
 "metadata": {
  "kernelspec": {
   "display_name": "Python 3 (ipykernel)",
   "language": "python",
   "name": "python3"
  },
  "language_info": {
   "codemirror_mode": {
    "name": "ipython",
    "version": 3
   },
   "file_extension": ".py",
   "mimetype": "text/x-python",
   "name": "python",
   "nbconvert_exporter": "python",
   "pygments_lexer": "ipython3",
   "version": "3.11.5"
  }
 },
 "nbformat": 4,
 "nbformat_minor": 4
}
