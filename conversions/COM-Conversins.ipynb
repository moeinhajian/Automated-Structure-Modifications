{
 "cells": [
  {
   "cell_type": "markdown",
   "metadata": {},
   "source": [
    "# Calculate center of mass of a VASP file"
   ]
  },
  {
   "cell_type": "code",
   "execution_count": 1,
   "metadata": {},
   "outputs": [
    {
     "name": "stdout",
     "output_type": "stream",
     "text": [
      "0.5002027558299786\n",
      "0.5220572348200845\n",
      "0.5161193059565831\n"
     ]
    }
   ],
   "source": [
    "from ase.io import read, write\n",
    "\n",
    "struct=read('POSCAR')\n",
    "\n",
    "Center = struct.get_center_of_mass()\n",
    "cellpar = struct.cell.cellpar()\n",
    "print(Center[0]/cellpar[0])\n",
    "print(Center[1]/cellpar[1])\n",
    "print(Center[2]/cellpar[2])"
   ]
  },
  {
   "cell_type": "markdown",
   "metadata": {},
   "source": [
    "# Convert a VASP file to  CIF or XYZ "
   ]
  },
  {
   "cell_type": "code",
   "execution_count": null,
   "metadata": {},
   "outputs": [],
   "source": [
    "from ase.io import read, write\n",
    "struct=read('final.vasp')\n",
    "write('OSCAR1.cif',struct)\n",
    "write('OSCAR1.xyz',struct)"
   ]
  },
  {
   "cell_type": "code",
   "execution_count": 4,
   "metadata": {},
   "outputs": [],
   "source": [
    "from ase.io import read, write\n",
    "struct=read('s1ptmsp1.xyz')\n",
    "# cell = struct.get_cell()\n",
    "# cell.round(3)\n",
    "write('try0.cif',struct)\n",
    "# write('try.pdb',struct)"
   ]
  },
  {
   "cell_type": "markdown",
   "metadata": {},
   "source": [
    "# Add lattice parameters to a XYZ data file and having output of CIF"
   ]
  },
  {
   "cell_type": "code",
   "execution_count": 7,
   "metadata": {},
   "outputs": [],
   "source": [
    "from ase.io import read, write\n",
    "from ase import Atoms\n",
    "import numpy as np\n",
    "\n",
    "# Read the XYZ file\n",
    "atoms = read('s2ptmsp1.xyz')\n",
    "\n",
    "# Define lattice vectors for non-cubic lattice\n",
    "# Replace a_length, b_length, c_length with your lattice lengths for x, y, z axes\n",
    "a_length = 115.593  # Length along x-axis in Angstroms\n",
    "b_length = 57.7965  # Length along y-axis in Angstroms\n",
    "c_length = 57.7965  # Length along z-axis in Angstroms\n",
    "\n",
    "lattice_vectors = np.array([[a_length, 0, 0],\n",
    "                            [0, b_length, 0],\n",
    "                            [0, 0, c_length]])\n",
    "\n",
    "# Set the lattice (cell)\n",
    "atoms.set_cell(lattice_vectors)\n",
    "\n",
    "# Ensure periodic boundary conditions are set if it's a bulk structure\n",
    "atoms.set_pbc([True, True, True])\n",
    "\n",
    "# Write to a VASP POSCAR file\n",
    "write('try3.cif', atoms)\n"
   ]
  },
  {
   "cell_type": "markdown",
   "metadata": {},
   "source": [
    "# Splitting a XYZ trajectory (LAMMPS output) to sub XYZ files"
   ]
  },
  {
   "cell_type": "code",
   "execution_count": 18,
   "metadata": {},
   "outputs": [],
   "source": [
    "from ase.io import read, write\n",
    "import numpy as np\n",
    "\n",
    "\n",
    "\n",
    "def extract_lattice_lengths(input_file):\n",
    "    with open(input_file, 'r') as file:\n",
    "        lines = file.readlines()\n",
    "\n",
    "    lattice_lengths = []\n",
    "    read_bounds = False\n",
    "\n",
    "    for line in lines:\n",
    "        if line.startswith(\"ITEM: BOX BOUNDS\"):\n",
    "            read_bounds = True\n",
    "            bounds = []\n",
    "        elif read_bounds:\n",
    "            if len(bounds) < 3:\n",
    "                bounds.append(line.split())\n",
    "            else:\n",
    "                # Calculate lengths and reset for next structure\n",
    "                lengths = [float(b[1]) - float(b[0]) for b in bounds]\n",
    "                lattice_lengths.append(lengths)\n",
    "                read_bounds = False\n",
    "\n",
    "    return lattice_lengths\n",
    "\n",
    "def split_xyz_file(input_file):\n",
    "    with open(input_file, 'r') as file:\n",
    "        lines = file.readlines()\n",
    "\n",
    "    structure = []\n",
    "    file_count = 0\n",
    "\n",
    "    for line in lines:\n",
    "        if line.startswith(\"38010\"):\n",
    "            if structure:\n",
    "                with open(f's{file_count}ptmsp2.xyz', 'w') as out_file:\n",
    "                    out_file.writelines(structure)\n",
    "                file_count += 1\n",
    "                structure = []\n",
    "                structure.append(line)\n",
    "        else:\n",
    "            structure.append(line)\n",
    "\n",
    "    # Save the last structure\n",
    "    if structure:\n",
    "        with open(f's{file_count}ptmsp2.xyz', 'w') as out_file:\n",
    "            out_file.writelines(structure)\n",
    "\n",
    "\n",
    "\n",
    "# Replace 'your_file.xyz' with the path to your XYZ file\n",
    "split_xyz_file('xyz.format')\n",
    "# Replace 'yourfile.dup' with your actual file name\n",
    "lattice_lengths = extract_lattice_lengths('dump.lammpstrj')\n",
    "\n",
    "# Print or process the lattice lengths\n",
    "for i, lengths in enumerate(lattice_lengths, 1):\n",
    "\n",
    "    # Read the XYZ file\n",
    "    atoms = read(f's{i}ptmsp2.xyz')\n",
    "    # Define lattice vectors for non-cubic lattice\n",
    "    a_length = lengths[0]  # Length along x-axis in Angstroms\n",
    "    b_length = lengths[1]  # Length along y-axis in Angstroms\n",
    "    c_length = lengths[2]  # Length along z-axis in Angstroms\n",
    "\n",
    "    lattice_vectors = np.array([[a_length, 0, 0],\n",
    "                            [0, b_length, 0],\n",
    "                            [0, 0, c_length]])\n",
    "\n",
    "    # Set the lattice (cell)\n",
    "    atoms.set_cell(lattice_vectors)\n",
    "\n",
    "    # Ensure periodic boundary conditions are set if it's a bulk structure\n",
    "    atoms.set_pbc([True, True, True])\n",
    "\n",
    "    # Write to a VASP POSCAR file\n",
    "    write(f's{i}ptmsp2.cif', atoms)\n"
   ]
  }
 ],
 "metadata": {
  "kernelspec": {
   "display_name": "Python 3 (ipykernel)",
   "language": "python",
   "name": "python3"
  },
  "language_info": {
   "codemirror_mode": {
    "name": "ipython",
    "version": 3
   },
   "file_extension": ".py",
   "mimetype": "text/x-python",
   "name": "python",
   "nbconvert_exporter": "python",
   "pygments_lexer": "ipython3",
   "version": "3.11.5"
  }
 },
 "nbformat": 4,
 "nbformat_minor": 4
}
